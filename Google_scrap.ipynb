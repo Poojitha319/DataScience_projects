{
  "nbformat": 4,
  "nbformat_minor": 0,
  "metadata": {
    "colab": {
      "provenance": [],
      "authorship_tag": "ABX9TyPLC4dBWeZUeAIYdPTXlrYe",
      "include_colab_link": true
    },
    "kernelspec": {
      "name": "python3",
      "display_name": "Python 3"
    },
    "language_info": {
      "name": "python"
    }
  },
  "cells": [
    {
      "cell_type": "markdown",
      "metadata": {
        "id": "view-in-github",
        "colab_type": "text"
      },
      "source": [
        "<a href=\"https://colab.research.google.com/github/Poojitha319/DataScience_projects/blob/main/Google_scrap.ipynb\" target=\"_parent\"><img src=\"https://colab.research.google.com/assets/colab-badge.svg\" alt=\"Open In Colab\"/></a>"
      ]
    },
    {
      "cell_type": "code",
      "source": [
        "import requests\n",
        "from bs4 import BeautifulSoup as bs"
      ],
      "metadata": {
        "id": "loxopGXksSRv"
      },
      "execution_count": 4,
      "outputs": []
    },
    {
      "cell_type": "code",
      "execution_count": null,
      "metadata": {
        "id": "hh--OmL4sPNA"
      },
      "outputs": [],
      "source": [
        "inp=input(\"enter the name:\").replace(' ','+')\n",
        "link='https://www.google.com/search?q='+inp+'+wikipedia'\n",
        "res=requests.get(link)\n",
        "soup=bs(res.text,'html.parser')\n",
        "for i in soup.find_all('div'):\n",
        "    try:\n",
        "        link=i.find('a').get('href')\n",
        "        if('https://en.wikipedia.org/'in link):\n",
        "            break\n",
        "    except:\n",
        "        pass\n",
        "# Extract the Wikipedia link, remove unnecessary parts, and sending a request to retrieve the content\n",
        "link1=link[7:].split('&')[0]\n",
        "print(link1)\n",
        "res=requests.get(link1)\n",
        "soup=bs(res.text,'html.parser')\n",
        "a=''\n",
        "for i in soup.find_all('p')[1:]:\n",
        "    a+=i.text\n",
        "    a+='\\n'\n",
        "print(a)\n",
        "with open(link1.split('/')[-1]+'.txt','w',encoding='utf-8')as fd:\n",
        "    fd.write(a)"
      ]
    }
  ]
}